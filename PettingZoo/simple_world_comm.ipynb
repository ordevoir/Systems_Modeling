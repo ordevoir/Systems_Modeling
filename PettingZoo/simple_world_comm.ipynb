{
 "cells": [
  {
   "cell_type": "markdown",
   "metadata": {},
   "source": [
    "# [Simple World Comm](https://pettingzoo.farama.org/environments/mpe/simple_world_comm/)\n",
    "\n",
    "Данная среда представляет собой симуляцию хищник-жертва (*predator-prey*). В среде есть \n",
    "- хорошие и агенты (*good agents*) – зеленые точки;\n",
    "- противники (*adversaries*) – красные точки;\n",
    "- лидирующий противник (*leader adversary*) – бордовая точка;\n",
    "- еда для хороших агентов (*food*) – синие точки;\n",
    "- препятствие (*obstacle*) – черный круг;\n",
    "- лес (*forest*) – зеленые круги;\n",
    "\n",
    "Подвижными в среде являются только агенты и противники (в том числе и лидирующий). Цель хороших агентов – избегать столкновений с противниками и приближаться к еде. Цель противников – перехватывать хороших агентов.\n",
    "\n",
    "Препятствие может блокировать путь, а в лесу хорошие агенты могут скрыватьсяся. Лидирующий противник может передавать сообщение остальным противникам. "
   ]
  },
  {
   "cell_type": "code",
   "execution_count": 61,
   "metadata": {},
   "outputs": [
    {
     "name": "stdout",
     "output_type": "stream",
     "text": [
      " env.agents = ['leadadversary_0', 'adversary_0', 'adversary_1', 'adversary_2', 'agent_0', 'agent_1']\n",
      " env.agent_selection = 'leadadversary_0'\n"
     ]
    }
   ],
   "source": [
    "from pettingzoo.mpe import simple_world_comm_v3\n",
    "\n",
    "env = simple_world_comm_v3.env(render_mode=\"rgb_array\")\n",
    "env.reset()\n",
    "\n",
    "print(f\"{ env.agents = }\")\n",
    "print(f\"{ env.agent_selection = }\")     # текущий агент"
   ]
  },
  {
   "cell_type": "markdown",
   "metadata": {},
   "source": [
    "## Observation space"
   ]
  },
  {
   "cell_type": "code",
   "execution_count": 19,
   "metadata": {},
   "outputs": [
    {
     "data": {
      "text/plain": [
       "Box(-inf, inf, (34,), float32)"
      ]
     },
     "execution_count": 19,
     "metadata": {},
     "output_type": "execute_result"
    }
   ],
   "source": [
    "env.observation_space(\"leadadversary_0\")"
   ]
  },
  {
   "cell_type": "code",
   "execution_count": 5,
   "metadata": {},
   "outputs": [
    {
     "data": {
      "text/plain": [
       "Box(-inf, inf, (34,), float32)"
      ]
     },
     "execution_count": 5,
     "metadata": {},
     "output_type": "execute_result"
    }
   ],
   "source": [
    "env.observation_space(\"adversary_0\")"
   ]
  },
  {
   "cell_type": "code",
   "execution_count": 14,
   "metadata": {},
   "outputs": [
    {
     "data": {
      "text/plain": [
       "34"
      ]
     },
     "execution_count": 14,
     "metadata": {},
     "output_type": "execute_result"
    }
   ],
   "source": [
    "2+2+20+6+4"
   ]
  },
  {
   "cell_type": "markdown",
   "metadata": {},
   "source": []
  },
  {
   "cell_type": "code",
   "execution_count": 55,
   "metadata": {},
   "outputs": [
    {
     "data": {
      "text/plain": [
       "array([-0.525     ,  0.        , -0.1006124 , -0.11048456,  0.6629406 ,\n",
       "        0.12866235, -0.00153272, -0.66538775, -0.14532872,  0.00181188,\n",
       "        0.0069446 , -0.12997241, -0.77598155, -0.30329806,  0.        ,\n",
       "        0.        ,  0.20118837, -0.36464646,  0.        ,  0.        ,\n",
       "        0.        ,  0.        ,  0.        ,  0.        ,  0.        ,\n",
       "        0.        ,  0.        ,  0.        ,  1.        , -1.        ,\n",
       "        1.        ,  0.        ,  0.        ,  0.        ], dtype=float32)"
      ]
     },
     "execution_count": 55,
     "metadata": {},
     "output_type": "execute_result"
    }
   ],
   "source": [
    "env.observe(\"adversary_0\")"
   ]
  },
  {
   "cell_type": "code",
   "execution_count": 56,
   "metadata": {},
   "outputs": [
    {
     "data": {
      "text/plain": [
       "array([-0.69375   ,  0.        ,  0.10057597, -0.475131  ,  0.4617522 ,\n",
       "        0.4933088 , -0.20272109, -0.30074129, -0.3465171 ,  0.36645836,\n",
       "       -0.19424377,  0.23467404, -0.9771699 ,  0.06134839,  0.        ,\n",
       "        0.        , -0.20118837,  0.36464646,  0.        ,  0.        ,\n",
       "        0.        ,  0.        ,  0.        ,  0.        ,  0.        ,\n",
       "        0.        ,  0.        ,  0.        ,  1.        , -1.        ,\n",
       "        1.        ,  0.        ,  0.        ,  0.        ], dtype=float32)"
      ]
     },
     "execution_count": 56,
     "metadata": {},
     "output_type": "execute_result"
    }
   ],
   "source": [
    "env.observe(\"adversary_1\")"
   ]
  },
  {
   "cell_type": "code",
   "execution_count": 57,
   "metadata": {},
   "outputs": [
    {
     "data": {
      "text/plain": [
       "array([-0.69375   , -0.        , -0.61382926,  0.9041093 ,  1.1761575 ,\n",
       "       -0.8859315 ,  0.5116841 , -1.6799816 ,  0.36788815, -1.012782  ,\n",
       "        0.52016145, -1.1445663 , -0.26276466, -1.317892  ,  0.        ,\n",
       "        0.        ,  0.        ,  0.        ,  0.        ,  0.        ,\n",
       "        0.9732394 , -1.6469048 ,  0.47999135,  0.09407665, -0.925     ,\n",
       "       -0.        , -0.925     ,  0.        , -1.        , -1.        ,\n",
       "        1.        ,  0.        ,  0.        ,  0.        ], dtype=float32)"
      ]
     },
     "execution_count": 57,
     "metadata": {},
     "output_type": "execute_result"
    }
   ],
   "source": [
    "env.observe(\"adversary_2\")"
   ]
  },
  {
   "cell_type": "code",
   "execution_count": 59,
   "metadata": {},
   "outputs": [
    {
     "data": {
      "text/plain": [
       "array([-0.69375   ,  0.        , -1.0274105 , -0.33059716,  1.5897387 ,\n",
       "        0.34877497,  0.9252654 , -0.44527513,  0.7814694 ,  0.22192448,\n",
       "        0.9337427 ,  0.09014019,  0.15081657, -0.08318546,  0.9267981 ,\n",
       "        0.2201126 ,  1.1279864 , -0.14453386,  0.41358122,  1.2347064 ,\n",
       "        1.3868207 , -0.4121984 ,  0.89357257,  1.3287832 , -0.925     ,\n",
       "       -0.        , -0.925     ,  0.        , -1.        ,  1.        ,\n",
       "        1.        ,  0.        ,  0.        ,  0.        ], dtype=float32)"
      ]
     },
     "execution_count": 59,
     "metadata": {},
     "output_type": "execute_result"
    }
   ],
   "source": [
    "env.observe(\"leadadversary_0\")"
   ]
  },
  {
   "cell_type": "code",
   "execution_count": 20,
   "metadata": {},
   "outputs": [
    {
     "data": {
      "text/plain": [
       "<matplotlib.image.AxesImage at 0x1e06a52ba50>"
      ]
     },
     "execution_count": 20,
     "metadata": {},
     "output_type": "execute_result"
    },
    {
     "data": {
      "image/png": "[encoded data removed]",
      "text/plain": [
       "<Figure size 640x480 with 1 Axes>"
      ]
     },
     "metadata": {},
     "output_type": "display_data"
    }
   ],
   "source": [
    "import matplotlib.pyplot as plt\n",
    "env.step(1)\n",
    "img = env.render()\n",
    "plt.imshow(img)"
   ]
  },
  {
   "cell_type": "code",
   "execution_count": 54,
   "metadata": {},
   "outputs": [],
   "source": [
    "env.step(1)"
   ]
  },
  {
   "cell_type": "markdown",
   "metadata": {},
   "source": []
  },
  {
   "cell_type": "code",
   "execution_count": 6,
   "metadata": {},
   "outputs": [
    {
     "data": {
      "text/plain": [
       "Box(-inf, inf, (28,), float32)"
      ]
     },
     "execution_count": 6,
     "metadata": {},
     "output_type": "execute_result"
    }
   ],
   "source": [
    "env.observation_space(\"agent_0\")"
   ]
  }
 ],
 "metadata": {
  "kernelspec": {
   "display_name": "zoo",
   "language": "python",
   "name": "python3"
  },
  "language_info": {
   "codemirror_mode": {
    "name": "ipython",
    "version": 3
   },
   "file_extension": ".py",
   "mimetype": "text/x-python",
   "name": "python",
   "nbconvert_exporter": "python",
   "pygments_lexer": "ipython3",
   "version": "3.11.9"
  }
 },
 "nbformat": 4,
 "nbformat_minor": 2
}
