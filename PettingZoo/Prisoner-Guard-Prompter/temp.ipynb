{
 "cells": [
  {
   "cell_type": "markdown",
   "metadata": {},
   "source": [
    "Нейронная сеть `Prompter` состоит из двух плотных слоев."
   ]
  },
  {
   "cell_type": "code",
   "execution_count": null,
   "metadata": {},
   "outputs": [],
   "source": [
    "# class Prompter(tf.keras.Model):\n",
    "#     def __init__(self, output_dim, **kwargs):\n",
    "#         super().__init__(**kwargs)\n",
    "#         self.hidden = tf.keras.layers.Dense(6, activation=\"relu\",\n",
    "#                                              kernel_initializer=\"he_normal\")\n",
    "#         self.out = tf.keras.layers.Dense(output_dim, activation=\"sigmoid\",\n",
    "#                                              kernel_initializer=\"he_normal\")\n",
    "#     def call(self, inputs):"
   ]
  },
  {
   "cell_type": "code",
   "execution_count": 44,
   "metadata": {},
   "outputs": [],
   "source": [
    "import tensorflow as tf\n",
    "import numpy as np\n",
    "\n",
    "channel_width = 8\n",
    "n_actions = 5\n",
    "\n",
    "def get_prompter_nn(channel_width):\n",
    "    prompter_nn = tf.keras.Sequential()\n",
    "    prompter_nn.add(tf.keras.layers.InputLayer(input_shape=[4]))\n",
    "    prompter_nn.add(tf.keras.layers.Dense(6, activation=\"relu\"))\n",
    "    prompter_nn.add(tf.keras.layers.Dense(channel_width, activation=\"sigmoid\"))\n",
    "    return prompter_nn\n",
    "\n",
    "def get_prisoner_nn(channel_width, n_actions):\n",
    "    prisoner_nn = tf.keras.Sequential()\n",
    "    prisoner_nn.add(tf.keras.layers.InputLayer(input_shape=[4+channel_width]))\n",
    "    prisoner_nn.add(tf.keras.layers.Dense(channel_width, activation=\"relu\"))\n",
    "    prisoner_nn.add(tf.keras.layers.Dense(n_actions, activation=\"sigmoid\"))\n",
    "    return prisoner_nn\n",
    " \n",
    "class CombinedModel(tf.keras.Model):\n",
    "    def __init__(self, channel_width, n_actions, **kwargs):\n",
    "        super().__init__(**kwargs)\n",
    "        self.prompter_nn = get_prompter_nn(channel_width)\n",
    "        self.prisoner_nn = get_prisoner_nn(channel_width, n_actions)\n",
    "        \n",
    "    def call(self, prompter_input, additional_input):\n",
    "        prompter_output = self.prompter_nn(prompter_input)\n",
    "        message = tf.where(prompter_output >= 0.5, 1.0, 0.0)\n",
    "        vector = tf.convert_to_tensor(additional_input)\n",
    "        prisoner_input = tf.concat([message, vector], axis=1)\n",
    "        return self.prisoner_nn(prisoner_input)\n",
    "\n",
    "def get_grad(model, prompter_input, additional_input):\n",
    "    with tf.GradientTape() as tape:\n",
    "        output = model(prompter_input, additional_input)\n",
    "        action = np.argmax(output)\n",
    "        print(f\"{action = }\")\n",
    "        loss = ([1.] - output[0, action]) ** 2\n",
    "    grad = tape.gradient(loss, model.trainable_variables)\n",
    "    return grad"
   ]
  },
  {
   "cell_type": "code",
   "execution_count": 45,
   "metadata": {},
   "outputs": [
    {
     "name": "stdout",
     "output_type": "stream",
     "text": [
      "action = 1\n"
     ]
    },
    {
     "data": {
      "text/plain": [
       "[None,\n",
       " None,\n",
       " None,\n",
       " None,\n",
       " <tf.Tensor: shape=(12, 8), dtype=float32, numpy=\n",
       " array([[-0.03261342,  0.02006644, -0.03862052,  0.        ,  0.        ,\n",
       "          0.        ,  0.        ,  0.02764634],\n",
       "        [-0.03261342,  0.02006644, -0.03862052,  0.        ,  0.        ,\n",
       "          0.        ,  0.        ,  0.02764634],\n",
       "        [ 0.        ,  0.        ,  0.        ,  0.        ,  0.        ,\n",
       "          0.        ,  0.        ,  0.        ],\n",
       "        [ 0.        ,  0.        ,  0.        ,  0.        ,  0.        ,\n",
       "          0.        ,  0.        ,  0.        ],\n",
       "        [-0.03261342,  0.02006644, -0.03862052,  0.        ,  0.        ,\n",
       "          0.        ,  0.        ,  0.02764634],\n",
       "        [-0.03261342,  0.02006644, -0.03862052,  0.        ,  0.        ,\n",
       "          0.        ,  0.        ,  0.02764634],\n",
       "        [ 0.        ,  0.        ,  0.        ,  0.        ,  0.        ,\n",
       "          0.        ,  0.        ,  0.        ],\n",
       "        [ 0.        ,  0.        ,  0.        ,  0.        ,  0.        ,\n",
       "          0.        ,  0.        ,  0.        ],\n",
       "        [-0.03587477,  0.02207308, -0.04248257,  0.        ,  0.        ,\n",
       "          0.        ,  0.        ,  0.03041098],\n",
       "        [ 0.07827222, -0.04815945,  0.09268925,  0.        ,  0.        ,\n",
       "          0.        ,  0.        , -0.06635123],\n",
       "        [-0.07827222,  0.04815945, -0.09268925,  0.        ,  0.        ,\n",
       "          0.        ,  0.        ,  0.06635123],\n",
       "        [-0.03261342,  0.02006644, -0.03862052,  0.        ,  0.        ,\n",
       "          0.        ,  0.        ,  0.02764634]], dtype=float32)>,\n",
       " <tf.Tensor: shape=(8,), dtype=float32, numpy=\n",
       " array([-0.03261342,  0.02006644, -0.03862052, -0.        ,  0.        ,\n",
       "        -0.        , -0.        ,  0.02764634], dtype=float32)>,\n",
       " <tf.Tensor: shape=(8, 5), dtype=float32, numpy=\n",
       " array([[ 0.        , -0.07155126,  0.        ,  0.        ,  0.        ],\n",
       "        [ 0.        , -0.07358072,  0.        ,  0.        ,  0.        ],\n",
       "        [ 0.        , -0.15329318,  0.        ,  0.        ,  0.        ],\n",
       "        [ 0.        ,  0.        ,  0.        ,  0.        ,  0.        ],\n",
       "        [ 0.        ,  0.        ,  0.        ,  0.        ,  0.        ],\n",
       "        [ 0.        ,  0.        ,  0.        ,  0.        ,  0.        ],\n",
       "        [ 0.        ,  0.        ,  0.        ,  0.        ,  0.        ],\n",
       "        [ 0.        , -0.02110615,  0.        ,  0.        ,  0.        ]],\n",
       "       dtype=float32)>,\n",
       " <tf.Tensor: shape=(5,), dtype=float32, numpy=\n",
       " array([ 0.        , -0.06788979,  0.        ,  0.        ,  0.        ],\n",
       "       dtype=float32)>]"
      ]
     },
     "execution_count": 45,
     "metadata": {},
     "output_type": "execute_result"
    }
   ],
   "source": [
    "model = CombinedModel(channel_width, n_actions)\n",
    "prompter_input = np.array([[1.3, 1.1, -0.3, 4.2]], dtype=np.float32)\n",
    "additional_input = np.array([[1.1, -2.4, 2.4, 1.0]], dtype=np.float32)\n",
    "model.call(prompter_input, additional_input)\n",
    "\n",
    "get_grad(model, prompter_input, additional_input)"
   ]
  },
  {
   "cell_type": "code",
   "execution_count": 6,
   "metadata": {},
   "outputs": [
    {
     "name": "stdout",
     "output_type": "stream",
     "text": [
      "Model: \"sequential_4\"\n",
      "_________________________________________________________________\n",
      " Layer (type)                Output Shape              Param #   \n",
      "=================================================================\n",
      " dense_8 (Dense)             (None, 8)                 104       \n",
      "                                                                 \n",
      " dense_9 (Dense)             (None, 4)                 36        \n",
      "                                                                 \n",
      "=================================================================\n",
      "Total params: 140 (560.00 Byte)\n",
      "Trainable params: 140 (560.00 Byte)\n",
      "Non-trainable params: 0 (0.00 Byte)\n",
      "_________________________________________________________________\n"
     ]
    }
   ],
   "source": [
    "prompter_nn = get_prompter_nn(8)\n",
    "prisoner_nn = get_prisoner_nn(8, 4)\n",
    "prisoner_nn.summary()"
   ]
  },
  {
   "cell_type": "code",
   "execution_count": 59,
   "metadata": {},
   "outputs": [
    {
     "name": "stdout",
     "output_type": "stream",
     "text": [
      "tf.Tensor([0.95257413 0.26894143 0.5       ], shape=(3,), dtype=float32)\n"
     ]
    },
    {
     "data": {
      "text/plain": [
       "<tf.Tensor: shape=(3,), dtype=float32, numpy=array([-1., -1., -1.], dtype=float32)>"
      ]
     },
     "execution_count": 59,
     "metadata": {},
     "output_type": "execute_result"
    }
   ],
   "source": [
    "@tf.custom_gradient\n",
    "def sigmoid(x):\n",
    "    def grad(dy):\n",
    "        return -dy\n",
    "    return tf.sigmoid(x), grad\n",
    "\n",
    "value = tf.Variable([3.0, -1.0, 0.0])\n",
    "print(sigmoid(value))\n",
    "\n",
    "with tf.GradientTape() as tape:\n",
    "    y = sigmoid(value)\n",
    "\n",
    "g = tape.gradient(y, value)\n",
    "g"
   ]
  },
  {
   "cell_type": "code",
   "execution_count": 46,
   "metadata": {},
   "outputs": [
    {
     "name": "stdout",
     "output_type": "stream",
     "text": [
      "Gradients: [1. 1. 1.]\n"
     ]
    }
   ],
   "source": [
    "import tensorflow as tf\n",
    "\n",
    "@tf.custom_gradient\n",
    "def sign_ste(x):\n",
    "    def grad(dy):\n",
    "        return dy  # STE approximation, passing gradient as is\n",
    "    return tf.sign(x), grad\n",
    "\n",
    "x = tf.Variable([0.5, -1.3, 2.0], dtype=tf.float32)\n",
    "\n",
    "with tf.GradientTape() as tape:\n",
    "    y = sign_ste(x)\n",
    "    loss = tf.reduce_sum(y)\n",
    "\n",
    "grad = tape.gradient(loss, x)\n",
    "print(\"Gradients:\", grad.numpy())\n"
   ]
  }
 ],
 "metadata": {
  "kernelspec": {
   "display_name": "base",
   "language": "python",
   "name": "python3"
  },
  "language_info": {
   "codemirror_mode": {
    "name": "ipython",
    "version": 3
   },
   "file_extension": ".py",
   "mimetype": "text/x-python",
   "name": "python",
   "nbconvert_exporter": "python",
   "pygments_lexer": "ipython3",
   "version": "3.11.5"
  }
 },
 "nbformat": 4,
 "nbformat_minor": 2
}
