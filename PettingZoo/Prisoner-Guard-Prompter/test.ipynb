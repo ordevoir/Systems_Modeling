{
 "cells": [
  {
   "cell_type": "code",
   "execution_count": 7,
   "metadata": {},
   "outputs": [
    {
     "data": {
      "text/plain": [
       "{'prisoner': array([ -0.48673445,   0.5551475 , -21.948765  ,  -7.429739  ,\n",
       "          0.        ,   0.        ,   0.        ,   0.        ,\n",
       "          0.        ,   0.        ,   0.        ,   0.        ],\n",
       "       dtype=float32),\n",
       " 'prompter': array([ 3.008572 ,  2.1088376,  7.532591 , 22.279995 ], dtype=float32)}"
      ]
     },
     "execution_count": 7,
     "metadata": {},
     "output_type": "execute_result"
    }
   ],
   "source": [
    "from prisoner_guard_prompter import env\n",
    "\n",
    "parallel_env = env(render_mode=\"human\", max_cycles=1000)\n",
    "observations, infos = parallel_env.reset()\n",
    "observations"
   ]
  },
  {
   "cell_type": "code",
   "execution_count": 19,
   "metadata": {},
   "outputs": [
    {
     "name": "stdout",
     "output_type": "stream",
     "text": [
      " parallel_env.agents = ['prisoner', 'prompter']\n"
     ]
    }
   ],
   "source": [
    "print(f\"{ parallel_env.agents = }\")"
   ]
  },
  {
   "cell_type": "code",
   "execution_count": 20,
   "metadata": {},
   "outputs": [
    {
     "name": "stdout",
     "output_type": "stream",
     "text": [
      " action_space = Discrete(5)\n",
      " observation_space = Box(-inf, inf, (12,), float32)\n"
     ]
    }
   ],
   "source": [
    "action_space = parallel_env.action_space(\"prisoner\")\n",
    "observation_space = parallel_env.observation_space(\"prisoner\")\n",
    "\n",
    "print(f\"{ action_space = }\")\n",
    "print(f\"{ observation_space = }\")"
   ]
  },
  {
   "cell_type": "code",
   "execution_count": 21,
   "metadata": {},
   "outputs": [
    {
     "name": "stdout",
     "output_type": "stream",
     "text": [
      " action_space = Box(0.0, 1.0, (12,), float32)\n",
      " observation_space = Box(-inf, inf, (4,), float32)\n"
     ]
    }
   ],
   "source": [
    "action_space = parallel_env.action_space(\"prompter\")\n",
    "observation_space = parallel_env.observation_space(\"prompter\")\n",
    "\n",
    "print(f\"{ action_space = }\")\n",
    "print(f\"{ observation_space = }\")"
   ]
  },
  {
   "cell_type": "code",
   "execution_count": 29,
   "metadata": {},
   "outputs": [
    {
     "name": "stdout",
     "output_type": "stream",
     "text": [
      "Game Over!\n",
      "{'prisoner': array([-0.17752904, -0.97442424,  3.0108733 ,  8.507538  ,  0.43114954,\n",
      "        0.21549948,  0.8579266 ,  0.2090724 ,  0.6197173 ,  0.2800541 ,\n",
      "        0.61972463,  0.3263082 ,  0.6701894 ,  0.24555871,  0.7943256 ,\n",
      "        0.13088311], dtype=float32), 'prompter': array([ -2.5768976,  -8.720747 , -17.884136 ,  -6.920306 ], dtype=float32)}\n",
      "{'prisoner': -1, 'prompter': -1, 'guard': 1}\n"
     ]
    }
   ],
   "source": [
    "parallel_env.reset()\n",
    "while parallel_env.agents:\n",
    "    actions = {agent: parallel_env.action_space(agent).sample() \n",
    "                for agent in parallel_env.agents}\n",
    "    observations, rewards, terminations, truncations, infos = parallel_env.step(actions)\n",
    "print(observations)\n",
    "print(rewards)"
   ]
  }
 ],
 "metadata": {
  "kernelspec": {
   "display_name": "zoo",
   "language": "python",
   "name": "python3"
  },
  "language_info": {
   "codemirror_mode": {
    "name": "ipython",
    "version": 3
   },
   "file_extension": ".py",
   "mimetype": "text/x-python",
   "name": "python",
   "nbconvert_exporter": "python",
   "pygments_lexer": "ipython3",
   "version": "3.11.9"
  }
 },
 "nbformat": 4,
 "nbformat_minor": 2
}
