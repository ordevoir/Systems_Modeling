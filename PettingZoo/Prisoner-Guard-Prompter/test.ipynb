{
 "cells": [
  {
   "cell_type": "code",
   "execution_count": 1,
   "metadata": {},
   "outputs": [
    {
     "name": "stdout",
     "output_type": "stream",
     "text": [
      "pygame 2.3.0 (SDL 2.24.2, Python 3.11.5)\n",
      "Hello from the pygame community. https://www.pygame.org/contribute.html\n"
     ]
    },
    {
     "data": {
      "text/plain": [
       "{'prisoner': array([-0.71273607, -0.16473266, 26.101059  , -9.474744  ,  0.        ,\n",
       "         0.        ,  0.        ,  0.        ,  0.        ,  0.        ,\n",
       "         0.        ,  0.        ], dtype=float32),\n",
       " 'prompter': array([-14.535296,  22.605228, -23.555918,  17.526882], dtype=float32)}"
      ]
     },
     "execution_count": 1,
     "metadata": {},
     "output_type": "execute_result"
    }
   ],
   "source": [
    "from prisoner_guard_prompter import env\n",
    "\n",
    "parallel_env = env(render_mode=\"human\", max_cycles=1000)\n",
    "observations, infos = parallel_env.reset()\n",
    "observations"
   ]
  },
  {
   "cell_type": "code",
   "execution_count": 19,
   "metadata": {},
   "outputs": [
    {
     "name": "stdout",
     "output_type": "stream",
     "text": [
      " parallel_env.agents = ['prisoner', 'prompter']\n"
     ]
    }
   ],
   "source": [
    "print(f\"{ parallel_env.agents = }\")"
   ]
  },
  {
   "cell_type": "code",
   "execution_count": 20,
   "metadata": {},
   "outputs": [
    {
     "name": "stdout",
     "output_type": "stream",
     "text": [
      " action_space = Discrete(5)\n",
      " observation_space = Box(-inf, inf, (12,), float32)\n"
     ]
    }
   ],
   "source": [
    "action_space = parallel_env.action_space(\"prisoner\")\n",
    "observation_space = parallel_env.observation_space(\"prisoner\")\n",
    "\n",
    "print(f\"{ action_space = }\")\n",
    "print(f\"{ observation_space = }\")"
   ]
  },
  {
   "cell_type": "code",
   "execution_count": 21,
   "metadata": {},
   "outputs": [
    {
     "name": "stdout",
     "output_type": "stream",
     "text": [
      " action_space = Box(0.0, 1.0, (12,), float32)\n",
      " observation_space = Box(-inf, inf, (4,), float32)\n"
     ]
    }
   ],
   "source": [
    "action_space = parallel_env.action_space(\"prompter\")\n",
    "observation_space = parallel_env.observation_space(\"prompter\")\n",
    "\n",
    "print(f\"{ action_space = }\")\n",
    "print(f\"{ observation_space = }\")"
   ]
  },
  {
   "cell_type": "code",
   "execution_count": 30,
   "metadata": {},
   "outputs": [
    {
     "name": "stdout",
     "output_type": "stream",
     "text": [
      "Game Over!\n",
      "{'prisoner': array([ 1.0120621 , -0.40670124, -7.7989054 , 12.067197  ,  0.83824307,\n",
      "        0.46655297,  0.8129493 ,  0.12997359,  0.6913901 ,  0.61329484,\n",
      "        0.64590466,  0.43350533,  0.9398956 ,  0.28840542,  0.75475395,\n",
      "        0.9945483 ], dtype=float32), 'prompter': array([  7.87436  , -12.510775 ,  -1.8612986, -11.55015  ], dtype=float32)}\n",
      "{'prisoner': -1, 'prompter': -1, 'guard': 1}\n"
     ]
    }
   ],
   "source": [
    "parallel_env.reset(seed=47)\n",
    "while parallel_env.agents:\n",
    "    actions = {agent: parallel_env.action_space(agent).sample() \n",
    "                for agent in parallel_env.agents}\n",
    "    observations, rewards, terminations, truncations, infos = parallel_env.step(actions)\n",
    "print(observations)\n",
    "print(rewards)"
   ]
  }
 ],
 "metadata": {
  "kernelspec": {
   "display_name": "zoo",
   "language": "python",
   "name": "python3"
  },
  "language_info": {
   "codemirror_mode": {
    "name": "ipython",
    "version": 3
   },
   "file_extension": ".py",
   "mimetype": "text/x-python",
   "name": "python",
   "nbconvert_exporter": "python",
   "pygments_lexer": "ipython3",
   "version": "3.11.5"
  }
 },
 "nbformat": 4,
 "nbformat_minor": 2
}
