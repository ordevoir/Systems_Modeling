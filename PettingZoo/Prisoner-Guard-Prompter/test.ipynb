{
 "cells": [
  {
   "cell_type": "code",
   "execution_count": 1,
   "metadata": {},
   "outputs": [
    {
     "name": "stdout",
     "output_type": "stream",
     "text": [
      "pygame 2.3.0 (SDL 2.24.2, Python 3.11.9)\n",
      "Hello from the pygame community. https://www.pygame.org/contribute.html\n"
     ]
    },
    {
     "data": {
      "text/plain": [
       "{'prisoner': array([-0.9485485 ,  0.29152754, 10.565974  , 11.977989  ,  0.        ,\n",
       "         0.        ,  0.        ,  0.        ,  0.        ,  0.        ,\n",
       "         0.        ,  0.        ], dtype=float32),\n",
       " 'prompter': array([ -3.506601 ,   1.6133738,  10.035095 , -22.935345 ], dtype=float32)}"
      ]
     },
     "execution_count": 1,
     "metadata": {},
     "output_type": "execute_result"
    }
   ],
   "source": [
    "from prisoner_guard_prompter import env\n",
    "\n",
    "parallel_env = env(render_mode=\"human\", max_cycles=1000)\n",
    "observations, infos = parallel_env.reset()\n",
    "observations"
   ]
  },
  {
   "cell_type": "code",
   "execution_count": 2,
   "metadata": {},
   "outputs": [
    {
     "name": "stdout",
     "output_type": "stream",
     "text": [
      " parallel_env.agents = ['prisoner', 'prompter']\n"
     ]
    }
   ],
   "source": [
    "print(f\"{ parallel_env.agents = }\")"
   ]
  },
  {
   "cell_type": "code",
   "execution_count": 3,
   "metadata": {},
   "outputs": [
    {
     "name": "stdout",
     "output_type": "stream",
     "text": [
      " action_space = Discrete(5)\n",
      " observation_space = Box(-inf, inf, (12,), float32)\n"
     ]
    }
   ],
   "source": [
    "action_space = parallel_env.action_space(\"prisoner\")\n",
    "observation_space = parallel_env.observation_space(\"prisoner\")\n",
    "\n",
    "print(f\"{ action_space = }\")\n",
    "print(f\"{ observation_space = }\")"
   ]
  },
  {
   "cell_type": "code",
   "execution_count": 4,
   "metadata": {},
   "outputs": [
    {
     "name": "stdout",
     "output_type": "stream",
     "text": [
      " action_space = Box(0.0, 1.0, (8,), float32)\n",
      " observation_space = Box(-inf, inf, (4,), float32)\n"
     ]
    }
   ],
   "source": [
    "action_space = parallel_env.action_space(\"prompter\")\n",
    "observation_space = parallel_env.observation_space(\"prompter\")\n",
    "\n",
    "print(f\"{ action_space = }\")\n",
    "print(f\"{ observation_space = }\")"
   ]
  },
  {
   "cell_type": "code",
   "execution_count": 5,
   "metadata": {},
   "outputs": [
    {
     "name": "stdout",
     "output_type": "stream",
     "text": [
      "Game Over!\n",
      "{'prisoner': array([-0.18793803, -0.50670123, 10.584782  , -2.0393019 ,  0.7739036 ,\n",
      "        0.766196  ,  0.17912236,  0.06820939,  0.818808  ,  0.8492595 ,\n",
      "        0.6539089 ,  0.9597701 ], dtype=float32), 'prompter': array([-10.942093 ,   1.8259487,  -1.8612986, -11.55015  ], dtype=float32)}\n",
      "{'prisoner': -1, 'prompter': -1, 'guard': 1}\n"
     ]
    }
   ],
   "source": [
    "parallel_env.reset(seed=47)\n",
    "while parallel_env.agents:\n",
    "    actions = {agent: parallel_env.action_space(agent).sample() \n",
    "                for agent in parallel_env.agents}\n",
    "    observations, rewards, terminations, truncations, infos = parallel_env.step(actions)\n",
    "print(observations)\n",
    "print(rewards)"
   ]
  },
  {
   "cell_type": "markdown",
   "metadata": {},
   "source": [
    "\n"
   ]
  }
 ],
 "metadata": {
  "kernelspec": {
   "display_name": "zoo",
   "language": "python",
   "name": "python3"
  },
  "language_info": {
   "codemirror_mode": {
    "name": "ipython",
    "version": 3
   },
   "file_extension": ".py",
   "mimetype": "text/x-python",
   "name": "python",
   "nbconvert_exporter": "python",
   "pygments_lexer": "ipython3",
   "version": "3.11.5"
  }
 },
 "nbformat": 4,
 "nbformat_minor": 2
}
