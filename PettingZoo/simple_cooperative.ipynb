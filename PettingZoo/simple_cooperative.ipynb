{
 "cells": [
  {
   "cell_type": "markdown",
   "metadata": {},
   "source": [
    "# [Simple Speaker Listener](https://pettingzoo.farama.org/environments/mpe/simple_speaker_listener/)\n",
    "\n",
    "В симуляции два агента (`speaker_0` и `listener_0`) и три ориентира (**landmarks**) разных цветов (red, green, blue). Агент `speaker_0` знает цвет ориентира (`goal_id`), так как получает его при каждом наблюдении в виде массива из трех чисел, и может закодировать его в действия. Агент `listener_0` может воспользоваться этой информацией для того, чтобы эффективней двигаться к цели. Вознаграждения агентов определяются расстоянием агента `listener_0` до целевого ориентира."
   ]
  },
  {
   "cell_type": "code",
   "execution_count": 1,
   "metadata": {},
   "outputs": [
    {
     "name": "stdout",
     "output_type": "stream",
     "text": [
      " env.agents = ['speaker_0', 'listener_0']\n",
      " env.agent_selection = 'speaker_0'\n"
     ]
    }
   ],
   "source": [
    "from pettingzoo.mpe import simple_speaker_listener_v4\n",
    "\n",
    "env = simple_speaker_listener_v4.env(render_mode=\"rgb_array\")\n",
    "env.reset()\n",
    "\n",
    "print(f\"{ env.agents = }\")\n",
    "print(f\"{ env.agent_selection = }\")     # текущий агент"
   ]
  },
  {
   "cell_type": "markdown",
   "metadata": {},
   "source": [
    "## Observation space"
   ]
  },
  {
   "cell_type": "code",
   "execution_count": 2,
   "metadata": {},
   "outputs": [
    {
     "data": {
      "text/plain": [
       "Box(-inf, inf, (3,), float32)"
      ]
     },
     "execution_count": 2,
     "metadata": {},
     "output_type": "execute_result"
    }
   ],
   "source": [
    "env.observation_space(\"speaker_0\")"
   ]
  },
  {
   "cell_type": "code",
   "execution_count": 3,
   "metadata": {},
   "outputs": [
    {
     "data": {
      "text/plain": [
       "Box(-inf, inf, (11,), float32)"
      ]
     },
     "execution_count": 3,
     "metadata": {},
     "output_type": "execute_result"
    }
   ],
   "source": [
    "env.observation_space(\"listener_0\")"
   ]
  },
  {
   "cell_type": "markdown",
   "metadata": {},
   "source": [
    "Наблюдение `speaker_0` всегда неизменно: это `goal_id` целевого ориентира, т.е. его цвет. Если, к примеру, `speaker_0` получает в наблюдении массив `[0.15, 0.65, 0.15]`, то цель – зеленый ориентир."
   ]
  },
  {
   "cell_type": "code",
   "execution_count": 4,
   "metadata": {},
   "outputs": [
    {
     "data": {
      "text/plain": [
       "array([0.15, 0.15, 0.65], dtype=float32)"
      ]
     },
     "execution_count": 4,
     "metadata": {},
     "output_type": "execute_result"
    }
   ],
   "source": [
    "env.observe(\"speaker_0\")"
   ]
  },
  {
   "cell_type": "markdown",
   "metadata": {},
   "source": [
    "Наблюдение `listener_0` представляет собой массив из 11 чисел. Первые два числа – скорость (`self_vel`), далее идут три пары чисел (`all_landmark_rel_positions`), в которых содержатся относительные координаты ориентиров, в соответствии с цветом: сначала идут координаты красного ориентира, затем координаты зеленого и синего ориентиров. Последние три значения массива (`communication`) –  закодированное (one-hot) сообщение, полученное от агента `speaker_0`."
   ]
  },
  {
   "cell_type": "code",
   "execution_count": 5,
   "metadata": {},
   "outputs": [
    {
     "data": {
      "text/plain": [
       "array([ 0.        ,  0.        ,  1.8809396 ,  0.9289515 ,  1.5533086 ,\n",
       "        0.07254848,  1.2123407 , -0.5352293 ,  0.        ,  0.        ,\n",
       "        0.        ], dtype=float32)"
      ]
     },
     "execution_count": 5,
     "metadata": {},
     "output_type": "execute_result"
    }
   ],
   "source": [
    "env.observe(\"listener_0\")"
   ]
  },
  {
   "cell_type": "markdown",
   "metadata": {},
   "source": [
    "## Action space"
   ]
  },
  {
   "cell_type": "code",
   "execution_count": 6,
   "metadata": {},
   "outputs": [
    {
     "data": {
      "text/plain": [
       "(Discrete(3), Discrete(5))"
      ]
     },
     "execution_count": 6,
     "metadata": {},
     "output_type": "execute_result"
    }
   ],
   "source": [
    "env.action_space(\"speaker_0\"), env.action_space(\"listener_0\")"
   ]
  },
  {
   "cell_type": "markdown",
   "metadata": {},
   "source": [
    "Агент `speaker_0` может совершать одно из трех действий. Это повлияет на последние 3 значения в массиве `observation` агента `listener_0`. \n",
    "\n",
    "Агент `listener_0` может совершать одно из 5 действий, как и в симуляции [Simple](https://pettingzoo.farama.org/environments/mpe/simple/) (см. файл simple.ipynb)."
   ]
  },
  {
   "cell_type": "code",
   "execution_count": 7,
   "metadata": {},
   "outputs": [
    {
     "data": {
      "text/plain": [
       "<matplotlib.image.AxesImage at 0x1d1604fa010>"
      ]
     },
     "execution_count": 7,
     "metadata": {},
     "output_type": "execute_result"
    },
    {
     "data": {
      "image/png": "[encoded data removed]",
      "text/plain": [
       "<Figure size 640x480 with 1 Axes>"
      ]
     },
     "metadata": {},
     "output_type": "display_data"
    }
   ],
   "source": [
    "import matplotlib.pyplot as plt\n",
    "env.step(1)\n",
    "img = env.render()\n",
    "plt.imshow(img)"
   ]
  },
  {
   "cell_type": "markdown",
   "metadata": {},
   "source": [
    "# [Simple Reference](https://pettingzoo.farama.org/environments/mpe/simple_reference/)\n",
    "\n",
    "Отличие от Simple Speaker Listener в том, что теперь есть два равнозначных агента `agent_0` и `agent_1`, и оба могут двигаться к своим целям и передавать сообщения. Каждому агенту известен цвет целевого ориентира другого агента."
   ]
  },
  {
   "cell_type": "code",
   "execution_count": 8,
   "metadata": {},
   "outputs": [
    {
     "name": "stdout",
     "output_type": "stream",
     "text": [
      " env.agents = ['agent_0', 'agent_1']\n",
      " env.agent_selection  = 'agent_0'\n"
     ]
    }
   ],
   "source": [
    "from pettingzoo.mpe import simple_reference_v3\n",
    "\n",
    "env = simple_reference_v3.env(render_mode=\"rgb_array\")\n",
    "env.reset()\n",
    "\n",
    "print(f\"{ env.agents = }\")\n",
    "print(f\"{ env.agent_selection  = }\")"
   ]
  },
  {
   "cell_type": "markdown",
   "metadata": {},
   "source": [
    "## Observation space"
   ]
  },
  {
   "cell_type": "code",
   "execution_count": 16,
   "metadata": {},
   "outputs": [
    {
     "data": {
      "text/plain": [
       "Box(-inf, inf, (30,), float32)"
      ]
     },
     "execution_count": 16,
     "metadata": {},
     "output_type": "execute_result"
    }
   ],
   "source": [
    "env.observation_space(\"agent_0\")"
   ]
  },
  {
   "cell_type": "markdown",
   "metadata": {},
   "source": [
    "Первые восемь значений массива наблюдения те же, что и для listener. Следующие три значения кодируют цвет целевого ориентира (`goal_id`) другого агента. Оставшиеся 10 значений кодируют (one-hot) сообщение от другого агента."
   ]
  },
  {
   "cell_type": "code",
   "execution_count": 10,
   "metadata": {},
   "outputs": [
    {
     "data": {
      "text/plain": [
       "array([ 0.        ,  0.        ,  0.0737379 , -0.18661073, -0.21453902,\n",
       "       -0.04235619,  0.7925964 , -1.2371159 ,  0.75      ,  0.25      ,\n",
       "        0.25      ,  0.        ,  0.        ,  0.        ,  0.        ,\n",
       "        0.        ,  0.        ,  0.        ,  0.        ,  0.        ,\n",
       "        0.        ], dtype=float32)"
      ]
     },
     "execution_count": 10,
     "metadata": {},
     "output_type": "execute_result"
    }
   ],
   "source": [
    "env.observe(\"agent_0\")"
   ]
  },
  {
   "cell_type": "markdown",
   "metadata": {},
   "source": [
    "## Action space"
   ]
  },
  {
   "cell_type": "code",
   "execution_count": 11,
   "metadata": {},
   "outputs": [
    {
     "data": {
      "text/plain": [
       "Discrete(50)"
      ]
     },
     "execution_count": 11,
     "metadata": {},
     "output_type": "execute_result"
    }
   ],
   "source": [
    "env.action_space(\"agent_0\")"
   ]
  },
  {
   "cell_type": "markdown",
   "metadata": {},
   "source": [
    "Действие представляет собой ускорение в одном из направлений (т.е. 5 возможных значений), как и для listener, и сообщение (10 возможных значений). Всего 50 комбинаций. Если мы, к примеру, хотим совешить ускорение вниз (3) и передать сообщение 7, то необходимо совершить действие $10 \\times 3 + 7 = 37$."
   ]
  },
  {
   "cell_type": "code",
   "execution_count": 12,
   "metadata": {},
   "outputs": [
    {
     "data": {
      "text/plain": [
       "array([ 0.        ,  0.        , -1.5454968 , -0.1648836 , -1.8337737 ,\n",
       "       -0.02062906, -0.82663834, -1.2153888 ,  0.75      ,  0.25      ,\n",
       "        0.25      ,  0.        ,  0.        ,  0.        ,  0.        ,\n",
       "        0.        ,  0.        ,  0.        ,  0.        ,  0.        ,\n",
       "        0.        ], dtype=float32)"
      ]
     },
     "execution_count": 12,
     "metadata": {},
     "output_type": "execute_result"
    }
   ],
   "source": [
    "env.step(37)\n",
    "env.observe(\"agent_1\")"
   ]
  },
  {
   "cell_type": "code",
   "execution_count": 13,
   "metadata": {},
   "outputs": [
    {
     "data": {
      "text/plain": [
       "<matplotlib.image.AxesImage at 0x1d1629f8490>"
      ]
     },
     "execution_count": 13,
     "metadata": {},
     "output_type": "execute_result"
    },
    {
     "data": {
      "image/png": "[encoded data removed]",
      "text/plain": [
       "<Figure size 640x480 with 1 Axes>"
      ]
     },
     "metadata": {},
     "output_type": "display_data"
    }
   ],
   "source": [
    "import matplotlib.pyplot as plt\n",
    "img = env.render()\n",
    "plt.imshow(img)"
   ]
  },
  {
   "cell_type": "markdown",
   "metadata": {},
   "source": [
    "# [Simple Spread](https://pettingzoo.farama.org/environments/mpe/simple_spread/)\n",
    "\n",
    "Среда содержит `N` агентов и столько же ориентиров (по умолчанию `N=3`). Агенты должны научиться покрывать все ориентиры избегая столкновений друг с другом."
   ]
  },
  {
   "cell_type": "code",
   "execution_count": 50,
   "metadata": {},
   "outputs": [
    {
     "name": "stdout",
     "output_type": "stream",
     "text": [
      " env.agents = ['agent_0', 'agent_1', 'agent_2']\n",
      " env.agent_selection  = 'agent_0'\n"
     ]
    }
   ],
   "source": [
    "from pettingzoo.mpe import simple_spread_v3\n",
    "\n",
    "env = simple_spread_v3.env(N=3, render_mode=\"rgb_array\")\n",
    "env.reset()\n",
    "\n",
    "print(f\"{ env.agents = }\")\n",
    "print(f\"{ env.agent_selection  = }\")"
   ]
  },
  {
   "cell_type": "markdown",
   "metadata": {},
   "source": [
    "## Observation space"
   ]
  },
  {
   "cell_type": "code",
   "execution_count": 51,
   "metadata": {},
   "outputs": [
    {
     "data": {
      "text/plain": [
       "Box(-inf, inf, (18,), float32)"
      ]
     },
     "execution_count": 51,
     "metadata": {},
     "output_type": "execute_result"
    }
   ],
   "source": [
    "env.observation_space(\"agent_0\")"
   ]
  },
  {
   "cell_type": "markdown",
   "metadata": {},
   "source": [
    "Наблюдение состоит из $6 \\times N$ значений. Первые 4 значения – собственные скорость и координата агента (`self_vel`, `self_pos`). Далее идет $2 \\times N$ значений для относительных координат ориентирова (`landmark_rel_positions`). Далее идет $2 \\times (N-1)$ значений для относительных координат других агентов. Последние $2 \\times (N-1)$ значений отводятся для получения сообщений от остальных агентов."
   ]
  },
  {
   "cell_type": "code",
   "execution_count": 52,
   "metadata": {},
   "outputs": [
    {
     "data": {
      "text/plain": [
       "array([ 0.        ,  0.        ,  0.2686192 , -0.8819988 , -0.07310266,\n",
       "        1.2367445 , -0.5964438 ,  1.0329964 ,  0.54657054,  0.0997561 ,\n",
       "        0.72778964,  1.1294749 , -0.74122036,  0.051687  ,  0.        ,\n",
       "        0.        ,  0.        ,  0.        ], dtype=float32)"
      ]
     },
     "execution_count": 52,
     "metadata": {},
     "output_type": "execute_result"
    }
   ],
   "source": [
    "env.observe(\"agent_0\")"
   ]
  },
  {
   "cell_type": "markdown",
   "metadata": {},
   "source": [
    "## Action space"
   ]
  },
  {
   "cell_type": "code",
   "execution_count": 53,
   "metadata": {},
   "outputs": [
    {
     "data": {
      "text/plain": [
       "Discrete(5)"
      ]
     },
     "execution_count": 53,
     "metadata": {},
     "output_type": "execute_result"
    }
   ],
   "source": [
    "env.action_space(\"agent_1\")"
   ]
  },
  {
   "cell_type": "code",
   "execution_count": 81,
   "metadata": {},
   "outputs": [
    {
     "name": "stdout",
     "output_type": "stream",
     "text": [
      " env.agent_selection  = 'agent_0'\n"
     ]
    },
    {
     "data": {
      "text/plain": [
       "array([ 0.9748306 ,  0.        ,  2.0064766 ,  0.2474761 , -1.81096   ,\n",
       "        0.10726967, -2.3343012 , -0.09647842, -1.1912868 , -1.0297188 ,\n",
       "       -0.72778964, -1.0794748 , -1.46901   , -1.0777879 ,  0.        ,\n",
       "        0.        ,  0.        ,  0.        ], dtype=float32)"
      ]
     },
     "execution_count": 81,
     "metadata": {},
     "output_type": "execute_result"
    }
   ],
   "source": [
    "env.step(0)\n",
    "print(f\"{ env.agent_selection  = }\")\n",
    "env.observe(\"agent_1\")"
   ]
  },
  {
   "cell_type": "code",
   "execution_count": 40,
   "metadata": {},
   "outputs": [
    {
     "data": {
      "text/plain": [
       "<matplotlib.image.AxesImage at 0x1d15d743490>"
      ]
     },
     "execution_count": 40,
     "metadata": {},
     "output_type": "execute_result"
    },
    {
     "data": {
      "image/png": "[encoded data removed]",
      "text/plain": [
       "<Figure size 640x480 with 1 Axes>"
      ]
     },
     "metadata": {},
     "output_type": "display_data"
    }
   ],
   "source": [
    "import matplotlib.pyplot as plt\n",
    "img = env.render()\n",
    "plt.imshow(img)"
   ]
  }
 ],
 "metadata": {
  "kernelspec": {
   "display_name": "zoo",
   "language": "python",
   "name": "python3"
  },
  "language_info": {
   "codemirror_mode": {
    "name": "ipython",
    "version": 3
   },
   "file_extension": ".py",
   "mimetype": "text/x-python",
   "name": "python",
   "nbconvert_exporter": "python",
   "pygments_lexer": "ipython3",
   "version": "3.11.9"
  }
 },
 "nbformat": 4,
 "nbformat_minor": 2
}
