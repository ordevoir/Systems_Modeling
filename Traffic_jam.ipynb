{
 "cells": [
  {
   "cell_type": "markdown",
   "metadata": {},
   "source": [
    "## Транспортные пробки"
   ]
  },
  {
   "cell_type": "code",
   "execution_count": 1,
   "metadata": {},
   "outputs": [
    {
     "name": "stderr",
     "output_type": "stream",
     "text": [
      "A subdirectory or file figures already exists.\n"
     ]
    }
   ],
   "source": [
    "import matplotlib.pyplot as plt\n",
    "import numpy as np\n",
    "from scipy.signal import correlate2d\n",
    "\n",
    "# make a directory for figures\n",
    "!mkdir figures\n",
    "\n",
    "from os.path import basename, exists\n",
    "def download(url):\n",
    "    fileName = basename(url)\n",
    "    if not exists(fileName):\n",
    "        from urllib.request import urlretrieve\n",
    "        local, _ = urlretrieve(url, fileName)\n",
    "        print(f'Downloaded {local}')\n",
    "\n",
    "download('https://github.com/wernadsky/test/raw/master/cell2d.py')\n",
    "download('https://github.com/wernadsky/test/raw/master/utils.py')\n",
    "\n",
    "from cell2d import Cell2D, draw_array, three_frame\n",
    "from utils import decorate"
   ]
  },
  {
   "cell_type": "code",
   "execution_count": 2,
   "metadata": {},
   "outputs": [],
   "source": [
    "class Driver:\n",
    "    def __init__(self, loc, speed=4):\n",
    "        \"\"\"\n",
    "        loc: позиция на дороге автомобиля\n",
    "        speed: скорость автомобиля\n",
    "        \"\"\"\n",
    "        self.start = loc\n",
    "        self.loc = loc\n",
    "        self.speed = speed\n",
    "\n",
    "    def chooseAcceleration(self, dist):\n",
    "        return 1\n",
    "\n",
    "    def setOdometer(self):\n",
    "        self.start = self.loc\n",
    "\n",
    "    def readOdometer(self):\n",
    "        return self.loc - self.start"
   ]
  },
  {
   "cell_type": "code",
   "execution_count": 3,
   "metadata": {},
   "outputs": [],
   "source": [
    "class Highway(Cell2D):\n",
    "\n",
    "    maxAcc = 1\n",
    "    minAcc = -10\n",
    "    speedLimit = 40\n",
    "\n",
    "    def __init__(self, n=10, length=1000, eps=0, consturctor=Driver):\n",
    "        \"\"\"Инициализация атрибутов.\n",
    "\n",
    "        n: int - число машин (drivers)\n",
    "        lenght: int - длина пути\n",
    "        eps: int - изменчивость в значениях скоростей\n",
    "        consturctor: функция для инициализации водитетей \n",
    "        \"\"\"\n",
    "        self.lenght = length\n",
    "        self.eps = eps\n",
    "        self.crashes = 0\n",
    "\n",
    "        # создание участников движения\n",
    "        # начальное расположение машин на дороге:\n",
    "        locs = np.linspace(0, length, n, endpoint=False)\n",
    "        self.drivers = [consturctor(loc) for loc in locs]\n",
    "\n",
    "        # линкуем машины, расположенные друг за другом\n",
    "        for i in range(n):  # j - индекс автомобиля, расположенного за i\n",
    "            j = (i+1) % n   # дорога закользована\n",
    "            self.drivers[i].next = self.drivers[j]\n",
    "\n",
    "    def step(self):\n",
    "        for driver in self.drivers:\n",
    "            self.move(driver)\n",
    "\n",
    "    def move(self, driver):\n",
    "        # получим расстояние до следующей машины\n",
    "        dist = self.distance(driver)\n",
    "        # ускорение автомобиля\n",
    "        acc = driver.chooseAcceleration(dist)\n",
    "        acc = min(acc, self.maxAcc)     # ограничение ускорения\n",
    "        acc = max(acc, self.minAcc)     # сверху и снизу\n",
    "        speed = driver.speed + acc\n",
    "\n",
    "        # добавим шум в скорость\n",
    "        speed *= np.random.uniform(1-self.eps, 1+self.eps)\n",
    "\n",
    "        speed = max(speed, 0)               # ограничение скорости\n",
    "        speed = min(speed, self.speedLimit) # сверху и снизу\n",
    "\n",
    "        # если текущая скорость автомобиля приводит к столкновению\n",
    "        # со следующим авто, то автомобиль останавливается:\n",
    "        if speed > dist:\n",
    "            speed = 0\n",
    "            self.crashes += 1\n",
    "\n",
    "        driver.speed = speed    # обновляем данные скорости\n",
    "        driver.loc += speed     # и координаты автомобилиста\n",
    "\n",
    "    def distance(self, driver):\n",
    "        \"\"\"Расстояние от автомобиля до следующего авто.\n",
    "        \n",
    "        driver: Driver object\n",
    "        \"\"\"\n",
    "        dist = driver.next.loc - driver.loc\n",
    "\n",
    "        # исправляем случай, когда следующий автомобиль находися\n",
    "        # за точкой замыкания дороги |--2--------1--| \n",
    "        if dist < 0:\n",
    "            dist += self.lenght\n",
    "        return dist\n",
    "    \n",
    "    def setOdometers(self):\n",
    "        return [driver.setOdometer() for driver in self.drivers]\n",
    "\n",
    "    def readOdometers(self):\n",
    "        return np.mean([driver.readOdometer() for driver in self.drivers])\n",
    "\n",
    "    def draw(self, size=None):\n",
    "        # отрисовка машин:\n",
    "        drivers = self.drivers\n",
    "        xs, ys = self.getCoords(drivers)\n",
    "        plt.plot(xs, ys, 'bs', markersize=10, alpha=0.7)\n",
    "\n",
    "        # отрисовка столкновений:\n",
    "        stopped = [driver for driver in self.drivers if driver.speed==0]\n",
    "        xs, ys = self.getCoords(stopped, r=0.8)\n",
    "        plt.plot(xs, ys, 'r^', markersize=10, alpha=0.7)\n",
    "\n",
    "        plt.axis('off')\n",
    "        plt.axis('equal')\n",
    "        plt.xlim([-1.05, 1.05])\n",
    "        plt.ylim([-1.05, 1.05])\n",
    "\n",
    "    def getCoords(self, drivers, r=1):\n",
    "        \"\"\"Получить координаты автомобилей\n",
    "        \n",
    "        drivers: последовательность объектов класса Driver\n",
    "        r: радиус дороги\n",
    "        returns: кортеж последовательностей (xs, ys)\n",
    "        \"\"\"\n",
    "        locs = np.array([driver.loc for driver in drivers])\n",
    "        locs *= 2 * np.pi / self.lenght\n",
    "        xs = r * np.cos(locs)\n",
    "        ys = r * np.sin(locs)\n",
    "        return xs, ys"
   ]
  },
  {
   "cell_type": "code",
   "execution_count": 4,
   "metadata": {},
   "outputs": [
    {
     "data": {
      "image/png": "[encoded data removed]",
      "text/plain": [
       "<Figure size 432x288 with 1 Axes>"
      ]
     },
     "metadata": {
      "needs_background": "light"
     },
     "output_type": "display_data"
    }
   ],
   "source": [
    "highway = Highway(30, eps=0.02)\n",
    "fig = highway.animate(frames=50, interval=0.2)"
   ]
  },
  {
   "cell_type": "code",
   "execution_count": 21,
   "metadata": {},
   "outputs": [
    {
     "data": {
      "image/png": "[encoded data removed]",
      "text/plain": [
       "<Figure size 720x288 with 3 Axes>"
      ]
     },
     "metadata": {
      "needs_background": "light"
     },
     "output_type": "display_data"
    }
   ],
   "source": [
    "from cell2d import three_frame\n",
    "\n",
    "highway = Highway(30, eps=0.02)\n",
    "fig = three_frame(highway, [16, 1, 1])"
   ]
  }
 ],
 "metadata": {
  "interpreter": {
   "hash": "d3dc4cf11f0805b9507d147d001bc4083c61dc5f6bb5ec2f3afd29d099799f67"
  },
  "kernelspec": {
   "display_name": "Python 3.8.11 ('tf')",
   "language": "python",
   "name": "python3"
  },
  "language_info": {
   "codemirror_mode": {
    "name": "ipython",
    "version": 3
   },
   "file_extension": ".py",
   "mimetype": "text/x-python",
   "name": "python",
   "nbconvert_exporter": "python",
   "pygments_lexer": "ipython3",
   "version": "3.8.12"
  },
  "orig_nbformat": 4
 },
 "nbformat": 4,
 "nbformat_minor": 2
}
