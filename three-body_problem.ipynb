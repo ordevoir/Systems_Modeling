{
 "cells": [
  {
   "cell_type": "code",
   "execution_count": 400,
   "metadata": {},
   "outputs": [],
   "source": [
    "import numpy as np\n",
    "import matplotlib.pyplot as plt"
   ]
  },
  {
   "cell_type": "code",
   "execution_count": 401,
   "metadata": {},
   "outputs": [],
   "source": [
    "coords = np.array([\n",
    "    [600., 300.],\n",
    "    [500., 700.],\n",
    "    [150., 400. - .01],\n",
    "], dtype=np.float16)\n",
    "speeds = np.array([\n",
    "    [0.5, .5],\n",
    "    [-1, 0.],\n",
    "    [1., -1.]\n",
    "])\n",
    "accels = np.zeros_like(coords)\n",
    "\n",
    "dim = 2\n",
    "count = 3\n",
    "gamma = 1e4"
   ]
  },
  {
   "cell_type": "code",
   "execution_count": 402,
   "metadata": {},
   "outputs": [],
   "source": [
    "def calc_accels():\n",
    "    accels.fill(0.)\n",
    "    for i in range(count):\n",
    "        for j in range(i+1, count):\n",
    "            deltas = np.zeros(dim)\n",
    "            for d in range(dim):\n",
    "                deltas[d] = coords[i, d] - coords[j, d]\n",
    "            distance = np.sqrt((deltas**2).sum())\n",
    "            accel = - deltas / np.abs(distance**3)\n",
    "            accels[i] += accel\n",
    "            accels[j] -= accel\n",
    "\n",
    "def step(speeds, coords):\n",
    "    calc_accels()\n",
    "    speeds += accels * gamma\n",
    "    coords += speeds * 10."
   ]
  },
  {
   "cell_type": "code",
   "execution_count": 403,
   "metadata": {},
   "outputs": [],
   "source": [
    "%matplotlib qt\n",
    "fig, ax = plt.subplots()\n",
    "fig.set_figwidth(7)\n",
    "fig.set_figheight(7)\n",
    "\n",
    "x1, x2, x0, y1, y2, y0 = [], [], [], [], [], []\n",
    "\n",
    "for n in range(315):\n",
    "    ax.clear()\n",
    "    x0.append(coords[0, 0])\n",
    "    x1.append(coords[1, 0])\n",
    "    x2.append(coords[2, 0])\n",
    "    y0.append(coords[0, 1])\n",
    "    y1.append(coords[1, 1])\n",
    "    y2.append(coords[2, 1])\n",
    "    ax.plot(x0, y0, c=\"#acf\", linewidth=0.5)\n",
    "    ax.plot(x1, y1, c=\"#afc\", linewidth=0.5)\n",
    "    ax.plot(x2, y2, c=\"#caf\", linewidth=0.5)\n",
    "    ax.scatter(coords[:, 0], coords[:, 1], s=30, c=[\"#fba\", \"#fba\", \"#fba\"])\n",
    "    step(speeds, coords)\n",
    "    ax.set_xlim(0, 1500)\n",
    "    ax.set_ylim(-750, 1000)\n",
    "    ax.set_axis_off()\n",
    "    fig.set_facecolor(\"#333\")\n",
    "    if n == 0:\n",
    "        plt.pause(1)\n",
    "    plt.pause(.01)"
   ]
  },
  {
   "cell_type": "code",
   "execution_count": null,
   "metadata": {},
   "outputs": [],
   "source": []
  },
  {
   "cell_type": "code",
   "execution_count": null,
   "metadata": {},
   "outputs": [],
   "source": []
  }
 ],
 "metadata": {
  "kernelspec": {
   "display_name": "Python 3 (ipykernel)",
   "language": "python",
   "name": "python3"
  },
  "language_info": {
   "codemirror_mode": {
    "name": "ipython",
    "version": 3
   },
   "file_extension": ".py",
   "mimetype": "text/x-python",
   "name": "python",
   "nbconvert_exporter": "python",
   "pygments_lexer": "ipython3",
   "version": "3.10.10"
  },
  "vscode": {
   "interpreter": {
    "hash": "2354c824380dd16e2f6e7897b9e57c43406bc6009f7bc4a441d059b9f9285973"
   }
  }
 },
 "nbformat": 4,
 "nbformat_minor": 4
}
