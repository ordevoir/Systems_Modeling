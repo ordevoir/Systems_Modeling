{
 "cells": [
  {
   "cell_type": "code",
   "execution_count": 3,
   "metadata": {},
   "outputs": [
    {
     "name": "stderr",
     "output_type": "stream",
     "text": [
      "A subdirectory or file -p already exists.\n",
      "Error occurred while processing: -p.\n",
      "A subdirectory or file figures already exists.\n",
      "Error occurred while processing: figures.\n"
     ]
    }
   ],
   "source": [
    "import numpy as np\n",
    "from scipy.signal import correlate2d\n",
    "import pygame\n",
    "pygame.init()\n",
    "\n",
    "GRIDWIDTH = 51      # количество клеток по горизонтали\n",
    "GRIDHEIGHT = 51     # количество клеток по вертикали\n",
    "\n",
    "clock = pygame.time.Clock()\n",
    "\n",
    "CELLSIZE = 4       # размер клетки в пикселях\n",
    "WINDOWWIDTH = GRIDWIDTH * CELLSIZE      # ширина окна\n",
    "WINDOWHEIGHT = GRIDHEIGHT * CELLSIZE    # высота окна\n",
    "FPS = 20\n",
    "BGCOLOR = (35, 35, 35)\n",
    "\n",
    "def drawRectangle(indices, A, B=None):\n",
    "    valueA = np.clip(int(A * 255), 0, 255)\n",
    "    # ограничили возможные значения valueA сверху и снизц\n",
    "    if B is None:\n",
    "        valueB = G = valueA\n",
    "    else:\n",
    "        valueB = np.clip(int(B * 255), 0, 255)\n",
    "        G = 30\n",
    "    \n",
    "    color = (valueA, G, valueB)\n",
    "    coords = (indices[0]*CELLSIZE, indices[1]*CELLSIZE)\n",
    "    rect = (coords[0], coords[1], CELLSIZE, CELLSIZE)\n",
    "    pygame.draw.rect(sf, color, rect)\n",
    "\n",
    "# make a directory for figures:\n",
    "!mkdir -p figures   "
   ]
  },
  {
   "cell_type": "code",
   "execution_count": 2,
   "metadata": {},
   "outputs": [],
   "source": [
    "def underride(d, **options):\n",
    "    \"\"\" добавляет key-value пары в словарь d, если key нет в d \"\"\"\n",
    "    for key, val in options.items():\n",
    "        d.setdefault(key, val)\n",
    "\n"
   ]
  },
  {
   "cell_type": "code",
   "execution_count": 6,
   "metadata": {},
   "outputs": [
    {
     "name": "stdout",
     "output_type": "stream",
     "text": [
      "<class 'dict'>\n"
     ]
    }
   ],
   "source": [
    "def f(**d):\n",
    "    print(type(d))\n",
    "f()"
   ]
  },
  {
   "cell_type": "markdown",
   "metadata": {},
   "source": [
    "#### Diffusion"
   ]
  },
  {
   "cell_type": "code",
   "execution_count": 2,
   "metadata": {},
   "outputs": [],
   "source": [
    "array = np.random.rand(GRIDWIDTH, GRIDHEIGHT)\n",
    "array = np.zeros((GRIDWIDTH, GRIDHEIGHT), dtype=float)\n",
    "\n",
    "for i in range(GRIDWIDTH//2-1, GRIDWIDTH//2+2):\n",
    "    for j in range(GRIDHEIGHT//2-1, GRIDHEIGHT//2+2):\n",
    "        array[i, j] = 1   # центральная клетка будет 1\n",
    "\n",
    "pygame.display.set_caption('Diffusion')\n",
    "\n",
    "kernel = np.array([[0, 1, 0],\n",
    "                   [1,-4, 1],\n",
    "                   [0, 1, 0]])\n",
    "\n",
    "c = correlate2d(array, kernel, mode='same', boundary='wrap')\n",
    "\n",
    "sf = pygame.display.set_mode((WINDOWWIDTH, WINDOWHEIGHT))\n",
    "\n",
    "iterCount = 10000\n",
    "iterations = 0\n",
    "running = True\n",
    "while running:\n",
    "\n",
    "    sf.fill(BGCOLOR)\n",
    "    for i in range(GRIDWIDTH):\n",
    "        for j in range(GRIDHEIGHT):\n",
    "            drawRectangle((i, j), array[i, j], 0.5)\n",
    "\n",
    "    c = correlate2d(array, kernel, mode='same', boundary='wrap')\n",
    "\n",
    "    if iterations <= iterCount:\n",
    "        array += 0.1 * c\n",
    "        iterations += 1\n",
    "    pygame.display.update()\n",
    "    clock.tick(FPS)\n",
    "\n",
    "    for event in pygame.event.get():\n",
    "        if event.type == pygame.QUIT:\n",
    "            pygame.quit()\n",
    "            running = False"
   ]
  },
  {
   "cell_type": "markdown",
   "metadata": {},
   "source": [
    "#### Reaction-diffusion\n",
    "For the RD model, we have two arrays, one for each chemical.\n",
    "\n",
    "Following [Sims](http://www.karlsims.com/rd.html), I'm using a kernel that includes the diagonal elements.  They have lower weights because they are farther from the center cell.\n",
    "\n",
    "The `step` function computes these functions:\n",
    "\n",
    "$\\Delta A = r_a \\nabla^2 A - AB^2 + f (1-A) $\n",
    "\n",
    "$\\Delta B = r_b \\nabla^2 B + AB^2 - (k+f) B $\n",
    "\n",
    "where $\\nabla^2$ is the Laplace operator the kernel is intended to approximate."
   ]
  },
  {
   "cell_type": "code",
   "execution_count": 4,
   "metadata": {},
   "outputs": [],
   "source": [
    "A = np.ones((GRIDWIDTH, GRIDHEIGHT), dtype=float)      # концентрация A\n",
    "B = np.zeros((GRIDWIDTH, GRIDHEIGHT), dtype=float)     # концентрация B\n",
    "rateA = 0.5     # скорость диффузии вещества A\n",
    "rateB = 0.25    # скорость диффузии вещества B\n",
    "f = 0.035         # скорость добавления вещества A в систему\n",
    "k = 0.062         # скорость удаления вещества B из системы\n",
    "\n",
    "value = 0.5     # значение концентрации B на островках\n",
    "noise = 0.16     # уровень шума\n",
    "\n",
    "def makeIsland(a, val, noise):\n",
    "    n, m = a.shape\n",
    "    r = min(n, m) // 20\n",
    "    # в центре создается островок радиуса r с концентрацией val вещества:\n",
    "    a[n//2-r : n//2+r, m//2-r : n//2+r] += val   \n",
    "    a += noise * np.random.random((n, m))       # вносится шум в матрицу a\n",
    "\n",
    "makeIsland(B, value, noise)\n",
    "\n",
    "kernel = np.array([[.05, .2, .05],\n",
    "                    [ .2, -1, .2],\n",
    "                    [.05, .2, .05]])\n",
    "\n",
    "sf = pygame.display.set_mode((WINDOWWIDTH, WINDOWHEIGHT))\n",
    "\n",
    "running = True\n",
    "while running:\n",
    "\n",
    "    sf.fill(BGCOLOR)\n",
    "    for i in range(GRIDWIDTH):\n",
    "        for j in range(GRIDHEIGHT):\n",
    "            drawRectangle((i, j), A[i, j], B[i, j])\n",
    "\n",
    "    cA = correlate2d(A, kernel, mode='same', boundary='wrap')\n",
    "    cB = correlate2d(B, kernel, mode='same', boundary='wrap')\n",
    "\n",
    "    reaction = A * B**2\n",
    "\n",
    "    A += rateA*cA - reaction + f*(1-A)\n",
    "    B += rateB*cB + reaction - (f+k)*B\n",
    "\n",
    "    # if iterations <= iterCount:\n",
    "    #     array += 0.1 * c\n",
    "    #     iterations += 1\n",
    "\n",
    "        \n",
    "    pygame.display.update()\n",
    "    clock.tick(FPS)\n",
    "\n",
    "    for event in pygame.event.get():\n",
    "        if event.type == pygame.QUIT:\n",
    "            pygame.quit()\n",
    "            running = False"
   ]
  },
  {
   "cell_type": "code",
   "execution_count": 3,
   "metadata": {},
   "outputs": [
    {
     "data": {
      "text/plain": [
       "6"
      ]
     },
     "execution_count": 3,
     "metadata": {},
     "output_type": "execute_result"
    }
   ],
   "source": [
    "def drawRectangle(indices, A, B=None):\n",
    "    valueA = np.clip(int(A * 255), 0, 255)\n",
    "    if B is None:\n",
    "        valueB = G = valueA\n",
    "    else:\n",
    "        valueB = np.clip(int(B * 255), 0, 255)\n",
    "        G = 30\n",
    "    \n",
    "    color = (valueA, G, valueB)\n",
    "    coords = (indices[0]*CELLSIZE, indices[1]*CELLSIZE)\n",
    "    rect = (coords[0], coords[1], CELLSIZE, CELLSIZE)\n",
    "    pygame.draw.rect(sf, color, rect)\n"
   ]
  },
  {
   "cell_type": "code",
   "execution_count": 9,
   "metadata": {},
   "outputs": [
    {
     "data": {
      "text/plain": [
       "255"
      ]
     },
     "execution_count": 9,
     "metadata": {},
     "output_type": "execute_result"
    }
   ],
   "source": [
    "a = 256898686\n",
    "np.clip(a, 0, 255)"
   ]
  },
  {
   "cell_type": "code",
   "execution_count": 10,
   "metadata": {},
   "outputs": [
    {
     "data": {
      "text/plain": [
       "array([2., 2., 2., 2., 2.])"
      ]
     },
     "execution_count": 10,
     "metadata": {},
     "output_type": "execute_result"
    }
   ],
   "source": [
    "a = np.ones(5)\n",
    "3-a"
   ]
  }
 ],
 "metadata": {
  "interpreter": {
   "hash": "f6c01aa93c43a6d3e51d18c124199899f1fa475bbcdc8a6b2a2ec13f01fabf3c"
  },
  "kernelspec": {
   "display_name": "Python 3 (ipykernel)",
   "language": "python",
   "name": "python3"
  },
  "language_info": {
   "codemirror_mode": {
    "name": "ipython",
    "version": 3
   },
   "file_extension": ".py",
   "mimetype": "text/x-python",
   "name": "python",
   "nbconvert_exporter": "python",
   "pygments_lexer": "ipython3",
   "version": "3.8.11"
  }
 },
 "nbformat": 4,
 "nbformat_minor": 2
}
